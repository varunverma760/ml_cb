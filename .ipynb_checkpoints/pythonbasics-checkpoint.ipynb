{
 "cells": [
  {
   "cell_type": "code",
   "execution_count": 8,
   "metadata": {},
   "outputs": [
    {
     "name": "stdout",
     "output_type": "stream",
     "text": [
      "['1', '2', '3', '4', '5']\n"
     ]
    }
   ],
   "source": [
    "numbers_lists_chars=\"1 2 3 4 5\".split()\n",
    "print(numbers_lists_chars)"
   ]
  },
  {
   "cell_type": "code",
   "execution_count": 10,
   "metadata": {},
   "outputs": [
    {
     "name": "stdout",
     "output_type": "stream",
     "text": [
      "[1, 2, 3, 4, 5]\n"
     ]
    }
   ],
   "source": [
    "numbers_lists_int=[int(x) for x in numbers_lists_chars] #list compression\n",
    "print(numbers_lists_int)"
   ]
  },
  {
   "cell_type": "code",
   "execution_count": 11,
   "metadata": {},
   "outputs": [
    {
     "name": "stdout",
     "output_type": "stream",
     "text": [
      "Bulbasaur\n",
      "Pikachu\n",
      "charmender\n",
      "invalid\n",
      "invalid\n"
     ]
    }
   ],
   "source": [
    "for i in numbers_lists_int:\n",
    "       if i==1:\n",
    "           print(\"Bulbasaur\")\n",
    "       elif i==2:\n",
    "           print(\"Pikachu\")\n",
    "       elif i==3:\n",
    "            print(\"charmender\")\n",
    "       else:\n",
    "           print(\"invalid\")"
   ]
  },
  {
   "cell_type": "code",
   "execution_count": 1,
   "metadata": {},
   "outputs": [],
   "source": [
    "# Dictionaries in python (HASHMAPS)\n",
    "\n",
    "pokemon_map={\n",
    "    1: \"Bulbasaur\",\n",
    "    2: \"Pikachu\",\n",
    "    3: \"Charmender\"\n",
    "}"
   ]
  },
  {
   "cell_type": "code",
   "execution_count": 2,
   "metadata": {},
   "outputs": [
    {
     "data": {
      "text/plain": [
       "'Pikachu'"
      ]
     },
     "execution_count": 2,
     "metadata": {},
     "output_type": "execute_result"
    }
   ],
   "source": [
    "pokemon_map[2]"
   ]
  },
  {
   "cell_type": "code",
   "execution_count": 10,
   "metadata": {},
   "outputs": [
    {
     "name": "stdout",
     "output_type": "stream",
     "text": [
      "Pokemon not found\n"
     ]
    }
   ],
   "source": [
    "\n",
    "    if pokemon_map.get(5)is None :\n",
    "        print(\"Pokemon not found\")\n",
    "    else:\n",
    "        print(pokemon_map[5])"
   ]
  },
  {
   "cell_type": "code",
   "execution_count": 13,
   "metadata": {},
   "outputs": [
    {
     "name": "stdout",
     "output_type": "stream",
     "text": [
      "['1', '2', '3', '4', '5']\n"
     ]
    }
   ],
   "source": [
    "numbers_lists_chars=\"1 2 3 4 5\".split()\n",
    "print(numbers_lists_chars)"
   ]
  },
  {
   "cell_type": "code",
   "execution_count": 14,
   "metadata": {},
   "outputs": [
    {
     "name": "stdout",
     "output_type": "stream",
     "text": [
      "[1, 2, 3, 4, 5]\n"
     ]
    }
   ],
   "source": [
    "numbers_lists_int=[int(x) for x in numbers_lists_chars] #list compression\n",
    "print(numbers_lists_int)"
   ]
  },
  {
   "cell_type": "code",
   "execution_count": 15,
   "metadata": {},
   "outputs": [
    {
     "name": "stdout",
     "output_type": "stream",
     "text": [
      "Bulbasaur\n",
      "Pikachu\n",
      "Charmender\n",
      "Pokemon not found\n",
      "Pokemon not found\n"
     ]
    }
   ],
   "source": [
    " for i in numbers_lists_int:\n",
    "    if pokemon_map.get(i)is None :\n",
    "        print(\"Pokemon not found\")\n",
    "    else:\n",
    "        print(pokemon_map[i])"
   ]
  },
  {
   "cell_type": "code",
   "execution_count": null,
   "metadata": {},
   "outputs": [],
   "source": []
  }
 ],
 "metadata": {
  "kernelspec": {
   "display_name": "Python 3",
   "language": "python",
   "name": "python3"
  },
  "language_info": {
   "codemirror_mode": {
    "name": "ipython",
    "version": 3
   },
   "file_extension": ".py",
   "mimetype": "text/x-python",
   "name": "python",
   "nbconvert_exporter": "python",
   "pygments_lexer": "ipython3",
   "version": "3.8.5"
  }
 },
 "nbformat": 4,
 "nbformat_minor": 4
}

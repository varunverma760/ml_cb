{
 "cells": [
  {
   "cell_type": "code",
   "execution_count": 35,
   "metadata": {},
   "outputs": [],
   "source": [
    "#model implementation\n",
    "input_size=3 # no_of_features\n",
    "layers=[4,3] #no ofneurons in 1st and 2nd layer\n",
    "output_size=2\n"
   ]
  },
  {
   "cell_type": "code",
   "execution_count": 36,
   "metadata": {},
   "outputs": [],
   "source": [
    "import numpy as np"
   ]
  },
  {
   "cell_type": "code",
   "execution_count": 37,
   "metadata": {},
   "outputs": [],
   "source": [
    "def softmax(a):\n",
    "    e_pa = np.exp(a)  #vecctor\n",
    "    ans=e_pa/np.sum(e_pa,axis=1,keepdims=True)\n",
    "    return ans"
   ]
  },
  {
   "cell_type": "code",
   "execution_count": 39,
   "metadata": {},
   "outputs": [
    {
     "name": "stdout",
     "output_type": "stream",
     "text": [
      "[[0.5 0.5]\n",
      " [0.5 0.5]]\n"
     ]
    }
   ],
   "source": [
    "a=np.array([[10,10],\n",
    "           [20,20]])\n",
    "\n",
    "a_=softmax(a)\n",
    "print(a_)"
   ]
  },
  {
   "cell_type": "code",
   "execution_count": 27,
   "metadata": {},
   "outputs": [],
   "source": [
    "import numpy as np\n",
    "\n",
    "\n",
    "class NeuralNetwork:\n",
    "    def __init__(self,input_size,layers,output_size):\n",
    "        np.random.seed(0)\n",
    "        \n",
    "        model={}  \n",
    "        \n",
    "        \n",
    "        model['W1']=np.random.randn(input_size,layers[0])   #weighted matrix\n",
    "        \n",
    "        model['b1']=np.zeros((1,layers[0]))\n",
    "        \n",
    "        model['W2']=np.random.randn(layers[0],layers[1])   #weighted matrix\n",
    "     \n",
    "        model['b2']=np.zeros((1,layers[1]))\n",
    "        \n",
    "        model['W3']=np.random.randn(layers[1],output_size)   #weighted matrix\n",
    "        \n",
    "        model['b3']=np.zeros((1,output_size))\n",
    "            \n",
    "        self.model=model\n",
    "        "
   ]
  },
  {
   "cell_type": "code",
   "execution_count": 7,
   "metadata": {},
   "outputs": [
    {
     "name": "stdout",
     "output_type": "stream",
     "text": [
      "[[ 0.13520354 -0.43840167 -0.79735811 -0.42030021]\n",
      " [-0.73962534  0.27203055 -0.0572252   0.87748104]\n",
      " [-0.57877999 -0.8904311   0.24278987 -1.96147396]]\n"
     ]
    }
   ],
   "source": [
    " import numpy as np\n",
    "   \n",
    "\n",
    "\n",
    "W1=np.random.randn(input_size,layers[0])   #weighted matrix\n",
    "print(W1)   #matrix size 2x4"
   ]
  },
  {
   "cell_type": "code",
   "execution_count": null,
   "metadata": {},
   "outputs": [],
   "source": [
    "def forward(self,x):\n",
    "\n",
    "    W1,W2,W3 = self.model['W1'],self.model['W2'],self.model['W3']\n",
    "    b1,b2,b3 = self.model['b1'],self.model['b2'],self.model['b3']\n",
    "    \n",
    "    \n",
    "\n",
    "    z1 = np.dot(x,W1) + b1\n",
    "    a1 = np.tanh(z1)\n",
    "\n",
    "    z2 = np.dot(a1,W2) + b2\n",
    "    a2 = mp.tanh(z2)\n",
    "    \n",
    "    z3 = np.dot(a2,W3) + b3\n",
    "    y_ = softmax(z3)\n",
    "    \n"
   ]
  }
 ],
 "metadata": {
  "kernelspec": {
   "display_name": "Python 3",
   "language": "python",
   "name": "python3"
  },
  "language_info": {
   "codemirror_mode": {
    "name": "ipython",
    "version": 3
   },
   "file_extension": ".py",
   "mimetype": "text/x-python",
   "name": "python",
   "nbconvert_exporter": "python",
   "pygments_lexer": "ipython3",
   "version": "3.8.5"
  }
 },
 "nbformat": 4,
 "nbformat_minor": 4
}

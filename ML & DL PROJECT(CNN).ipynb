{
 "cells": [
  {
   "cell_type": "code",
   "execution_count": 39,
   "metadata": {},
   "outputs": [
    {
     "name": "stdout",
     "output_type": "stream",
     "text": [
      "Train on 7778 samples, validate on 1945 samples\n",
      "Epoch 1/10\n",
      "7778/7778 [==============================] - 127s 16ms/sample - loss: 0.3133 - acc: 0.9023 - val_loss: 0.5080 - val_acc: 0.7121\n",
      "Epoch 2/10\n",
      "7778/7778 [==============================] - 124s 16ms/sample - loss: 0.1522 - acc: 0.9475 - val_loss: 0.0582 - val_acc: 0.9799\n",
      "Epoch 3/10\n",
      "7778/7778 [==============================] - 126s 16ms/sample - loss: 0.1064 - acc: 0.9641 - val_loss: 0.0333 - val_acc: 0.9892\n",
      "Epoch 4/10\n",
      "7778/7778 [==============================] - 125s 16ms/sample - loss: 0.0733 - acc: 0.9749 - val_loss: 0.0292 - val_acc: 0.9892\n",
      "Epoch 5/10\n",
      "7778/7778 [==============================] - 125s 16ms/sample - loss: 0.0618 - acc: 0.9780 - val_loss: 0.0784 - val_acc: 0.9717\n",
      "Epoch 6/10\n",
      "7778/7778 [==============================] - 125s 16ms/sample - loss: 0.0474 - acc: 0.9848 - val_loss: 0.0122 - val_acc: 0.9959\n",
      "Epoch 7/10\n",
      "7778/7778 [==============================] - 125s 16ms/sample - loss: 0.0438 - acc: 0.9857 - val_loss: 0.0106 - val_acc: 0.9964\n",
      "Epoch 8/10\n",
      "7778/7778 [==============================] - 126s 16ms/sample - loss: 0.0429 - acc: 0.9860 - val_loss: 0.0198 - val_acc: 0.9938\n",
      "Epoch 9/10\n",
      "7778/7778 [==============================] - 130s 17ms/sample - loss: 0.0335 - acc: 0.9877 - val_loss: 0.0145 - val_acc: 0.9959\n",
      "Epoch 10/10\n",
      "7778/7778 [==============================] - 127s 16ms/sample - loss: 0.0353 - acc: 0.9896 - val_loss: 0.0155 - val_acc: 0.9954\n"
     ]
    }
   ],
   "source": [
    "import tensorflow as tf\n",
    "from tensorflow.keras.models import Sequential\n",
    "from tensorflow.keras.layers import Dense, Dropout, Activation, Flatten\n",
    "from tensorflow.keras.layers import Conv2D, MaxPooling2D, BatchNormalization\n",
    "from tensorflow.keras.callbacks import TensorBoard\n",
    "import os\n",
    "import pickle\n",
    "import time\n",
    "\n",
    "NAME = \"ML-PROJECT-{}\".format(int(time.time()))\n",
    "\n",
    "#tensorboard = TensorBoard(log_dir='logs/{}'.format(NAME))\n",
    "#tboard_log_dir = os.path.join(\"logs\",NAME)\n",
    "#tensorboard = TensorBoard(log_dir = tboard_log_dir)\n",
    "\n",
    "X = pickle.load(open(\"X_new.pickle\", \"rb\"))\n",
    "Y = pickle.load(open(\"Y_new.pickle\", \"rb\"))   \n",
    "X=X/255\n",
    "\n",
    "#SPE= len(train_batch.classes)//BS\n",
    "#VS = len(valid_batch.classes)//BS\n",
    "#print(SPE,VS)\n",
    "\n",
    "\n",
    "model = Sequential()\n",
    "model.add(Conv2D(32, (3,3), input_shape = X.shape[1:], activation='relu'))\n",
    "model.add(BatchNormalization())\n",
    "model.add(MaxPooling2D(pool_size=(2, 2)))   \n",
    "\n",
    "model.add(Conv2D(32, (3,3), activation='relu'))\n",
    "model.add(BatchNormalization())\n",
    "model.add(MaxPooling2D(pool_size=(2, 2)))\n",
    "\n",
    "model.add(Conv2D(64, (3,3), activation='relu'))\n",
    "model.add(BatchNormalization())\n",
    "model.add(MaxPooling2D(pool_size=(2, 2)))\n",
    "model.add(Dropout(0.5))\n",
    "\n",
    "#model.add(Conv2D(64, (3,3), activation='relu'))\n",
    "#model.add(MaxPooling2D(pool_size=(2, 2)))\n",
    "#model.add(Dropout(0.5))\n",
    " \n",
    "model.add(Flatten())\n",
    "model.add(Dense(128, activation = 'relu'))\n",
    "model.add(Dropout(0.5))\n",
    "\n",
    "model.add(Dense(2, activation='softmax'))\n",
    "model.compile(optimizer='adamax',loss='sparse_categorical_crossentropy',metrics=['accuracy'])\n",
    "model.fit(X,Y,batch_size=20,epochs=10,validation_split = 0.2) #callbacks=[tensorboard] )\n",
    "#classifier.fit_generator(X, samples_per_epoch = 8000, nb_epoch = 5, validation_data = Y,\n",
    "                        # nb_val_samples = 2000,\n",
    "                         #steps_per_epoch = 20)\n",
    "\n",
    "model.save('models/eyes', overwrite=True)"
   ]
  },
  {
   "cell_type": "code",
   "execution_count": 33,
   "metadata": {},
   "outputs": [
    {
     "name": "stdout",
     "output_type": "stream",
     "text": [
      "7778/7778 [==============================] - 29s 4ms/sample - loss: 0.0457 - acc: 0.9873\n",
      "0.9933161953727506\n",
      "[[975   4]\n",
      " [  9 957]]\n",
      "              precision    recall  f1-score   support\n",
      "\n",
      "           0       0.99      1.00      0.99       979\n",
      "           1       1.00      0.99      0.99       966\n",
      "\n",
      "    accuracy                           0.99      1945\n",
      "   macro avg       0.99      0.99      0.99      1945\n",
      "weighted avg       0.99      0.99      0.99      1945\n",
      "\n"
     ]
    }
   ],
   "source": [
    "from sklearn.model_selection import train_test_split\n",
    "from sklearn.metrics import accuracy_score\n",
    "x_train,x_test,y_train,y_test = train_test_split(X,Y,test_size=0.20)\n",
    "#y_pred= model.predict_classes(X)\n",
    "model.fit(x_train, y_train)\n",
    "y_pred = model.predict_classes(x_test)\n",
    "print(accuracy_score(y_test,y_pred))\n",
    "from sklearn.metrics import classification_report, confusion_matrix\n",
    "print(confusion_matrix(y_test, y_pred))\n",
    "print(classification_report(y_test, y_pred))"
   ]
  },
  {
   "cell_type": "code",
   "execution_count": 35,
   "metadata": {},
   "outputs": [
    {
     "name": "stdout",
     "output_type": "stream",
     "text": [
      "7778/7778 [==============================] - 28s 4ms/sample - loss: 0.0260 - acc: 0.9923\n",
      "0.9969151670951156\n",
      "[[977   2]\n",
      " [  4 962]]\n",
      "              precision    recall  f1-score   support\n",
      "\n",
      "           0       1.00      1.00      1.00       979\n",
      "           1       1.00      1.00      1.00       966\n",
      "\n",
      "    accuracy                           1.00      1945\n",
      "   macro avg       1.00      1.00      1.00      1945\n",
      "weighted avg       1.00      1.00      1.00      1945\n",
      "\n"
     ]
    }
   ],
   "source": [
    "model.fit(x_train, y_train)\n",
    "y_pred = model.predict_classes(x_test)\n",
    "print(accuracy_score(y_test,y_pred))\n",
    "print(confusion_matrix(y_test, y_pred))\n",
    "print(classification_report(y_test, y_pred))"
   ]
  },
  {
   "cell_type": "code",
   "execution_count": 29,
   "metadata": {},
   "outputs": [
    {
     "data": {
      "text/plain": [
       "<matplotlib.axes._subplots.AxesSubplot at 0x20a81b14c48>"
      ]
     },
     "execution_count": 29,
     "metadata": {},
     "output_type": "execute_result"
    },
    {
     "data": {
      "image/png": "[encoded data removed]",
      "text/plain": [
       "<Figure size 432x288 with 2 Axes>"
      ]
     },
     "metadata": {
      "needs_background": "light"
     },
     "output_type": "display_data"
    }
   ],
   "source": [
    "import seaborn as sns\n",
    "sns.heatmap(cm, annot=True)"
   ]
  },
  {
   "cell_type": "code",
   "execution_count": null,
   "metadata": {},
   "outputs": [],
   "source": []
  }
 ],
 "metadata": {
  "kernelspec": {
   "display_name": "Python 3",
   "language": "python",
   "name": "python3"
  },
  "language_info": {
   "codemirror_mode": {
    "name": "ipython",
    "version": 3
   },
   "file_extension": ".py",
   "mimetype": "text/x-python",
   "name": "python",
   "nbconvert_exporter": "python",
   "pygments_lexer": "ipython3",
   "version": "3.8.5"
  }
 },
 "nbformat": 4,
 "nbformat_minor": 4
}
